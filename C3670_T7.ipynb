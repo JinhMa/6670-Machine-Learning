{
 "cells": [
  {
   "cell_type": "markdown",
   "metadata": {},
   "source": [
    "**COMP3670 Tutorial W7 - Regression**\n",
    "---"
   ]
  },
  {
   "cell_type": "markdown",
   "metadata": {},
   "source": [
    "**Version History:**\n",
    "- Created 09/2019 (Michael Bennett)\n"
   ]
  },
  {
   "cell_type": "markdown",
   "metadata": {},
   "source": [
    "THEORY SECTION\n",
    "---"
   ]
  },
  {
   "cell_type": "markdown",
   "metadata": {},
   "source": [
    "One of the most important topics in machine learning is vector calculus. In order to ever hope to even partially grasp this discipline one must master it.\n",
    "\n",
    "Thus, the first part of this tutorial (the most important part), is dedicated to going over the exam questions on vector calculus. \n",
    "\n",
    "1. Go over every question in the vector calculus section of the exam.\n",
    "2. Identify where you aren't quite sure how the official solution given was arrived at.\n",
    "3. Ask your tutor and your classmates to help you understand how the solution was arrived at. Help others with less understanding than yourself, it will be good revision. \n",
    "\n",
    "**PRIORITIES:**\n",
    "1. Ensure you understand how **every step** of the official answer was performed, and why.\n",
    "2. Ensure you could replicate these answers in your sleep. It's a worthwhile investment. If you want to succeed at machine learning, there is no more important topic.\n",
    "\n",
    "Once that's all done, revisit the clustering section. Did you understand everything here as well? Unsupervised learning is important because it not only has immediate practical uses but is more relevant to the development of AGI (Artificial General Intelligence) than supervised (labelled) learning. If you don't understand this paragraph, please ask your tutor to clarify the meaning of supervised and unsupservised learning."
   ]
  },
  {
   "cell_type": "markdown",
   "metadata": {},
   "source": [
    "**PROGRAMMING SECTION**\n",
    "---\n",
    "\n",
    "We're going to do a simple scalar linear regression with gradient descent.\n",
    "\n",
    "\n",
    "-----------\n",
    "\n",
    "   **TASK:** \n",
    "   \n",
    "   1. Randomly generate a matrix $X \\in \\mathbb{R}^{m \\times n}$, where each row of $X$ is a training example.\n",
    "   2. Design a transform $t \\in \\mathbb{R}^{n \\times 1}$. It can be any matrix you like, so long as it is invertible.\n",
    "   3. Generate $Y$ by $Xt = Y$.\n",
    "   4. Then generate a random matrix $\\theta \\in \\mathbb{R}^{n \\times 1}$.\n",
    "   5. Implement gradient descent to approximate $t$ with $\\theta$.\n",
    "   6. Check your gradient descent algorithm correctly approximated $t$. Talk to your classmates and tutor to make sure if you're unsure.\n",
    "   7. Verify your answer with the closed form solution employing the Moore-Penrose inverse.\n",
    "   \n",
    "Note that in the above we're essentially pretending we don't know $t$. Obviously, if we had $t$, linear regression with gradient descent would be unnecessary, but the point is to help you understand what gradient descent is doing.\n",
    "\n",
    "\n",
    "-----------\n",
    "\n",
    "**GENERAL HINTS:** \n",
    "- $n$ can be any number you like, but be reasonable.\n",
    "- Stanford and MIT both have some amazing freely available course content online. Look up \"Machine Learning Stanford CS229\" or \"CS221\" or \"CS221N\" for details.\n",
    "- Don't give up! Machine learning is extremely hard, but it's hard for everyone whatever they say. It's worth persisting, you will succeed if you are patient!\n",
    "- Wikipedia is your friend. It's not always right, but it's always there for you."
   ]
  },
  {
   "cell_type": "code",
   "execution_count": 1,
   "metadata": {},
   "outputs": [],
   "source": [
    "#YOUR CODE HERE."
   ]
  }
 ],
 "metadata": {
  "kernelspec": {
   "display_name": "Python 3",
   "language": "python",
   "name": "python3"
  },
  "language_info": {
   "codemirror_mode": {
    "name": "ipython",
    "version": 3
   },
   "file_extension": ".py",
   "mimetype": "text/x-python",
   "name": "python",
   "nbconvert_exporter": "python",
   "pygments_lexer": "ipython3",
   "version": "3.7.3"
  }
 },
 "nbformat": 4,
 "nbformat_minor": 2
}
